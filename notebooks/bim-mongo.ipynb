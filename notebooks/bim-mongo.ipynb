{
 "cells": [
  {
   "cell_type": "code",
   "execution_count": 1,
   "metadata": {},
   "outputs": [
    {
     "data": {
      "text/plain": [
       "1717450915.51216"
      ]
     },
     "execution_count": 1,
     "metadata": {},
     "output_type": "execute_result"
    }
   ],
   "source": [
    "from digital_hospitals.bim import models\n",
    "import networkx as ntx\n",
    "from datetime import datetime\n",
    "import pytz\n",
    "\n",
    "from pymongo import MongoClient\n",
    "from digital_hospitals.common import MONGODB_PORT, MONGODB_USER, MONGODB_PASSWORD\n",
    "client = MongoClient(\"localhost\", MONGODB_PORT, username=MONGODB_USER, password=MONGODB_PASSWORD, timeoutMS=5000)\n",
    "\n",
    "requested = datetime.now().timestamp()\n",
    "requested"
   ]
  },
  {
   "cell_type": "code",
   "execution_count": 2,
   "metadata": {},
   "outputs": [
    {
     "name": "stdout",
     "output_type": "stream",
     "text": [
      "datetime.datetime(2024, 6, 3, 22, 41, 55, 512160, tzinfo=<DstTzInfo 'Europe/London' BST+1:00:00 DST>)\n",
      "2024-06-03T22:41:55.512160+01:00\n"
     ]
    }
   ],
   "source": [
    "LONDON = pytz.timezone('Europe/London')\n",
    "my_dt = datetime.fromtimestamp(requested, LONDON)\n",
    "print(my_dt.__repr__())\n",
    "print(my_dt.isoformat())"
   ]
  },
  {
   "cell_type": "code",
   "execution_count": 3,
   "metadata": {},
   "outputs": [],
   "source": [
    "db = client['test-db']\n",
    "bim = db['bim']\n",
    "bim_latest = db['bim-latest']"
   ]
  },
  {
   "cell_type": "code",
   "execution_count": 4,
   "metadata": {},
   "outputs": [],
   "source": [
    "_id = bim.insert_one({\n",
    "    'requested': requested,\n",
    "    'status': 'Running'\n",
    "}).inserted_id"
   ]
  },
  {
   "cell_type": "code",
   "execution_count": 5,
   "metadata": {},
   "outputs": [
    {
     "data": {
      "text/plain": [
       "{'directed': False,\n",
       " 'multigraph': False,\n",
       " 'graph': {},\n",
       " 'nodes': [{'id': 'd1'},\n",
       "  {'id': 'd2'},\n",
       "  {'id': 'd3'},\n",
       "  {'id': 'd4'},\n",
       "  {'id': 'd5'},\n",
       "  {'id': 'd6'},\n",
       "  {'id': 'd7'},\n",
       "  {'id': 'd8'},\n",
       "  {'id': 'd9'},\n",
       "  {'id': 'd10'},\n",
       "  {'id': 'd11'},\n",
       "  {'id': 'd12'},\n",
       "  {'id': 'd13'},\n",
       "  {'id': 'd14'},\n",
       "  {'id': 'd15'},\n",
       "  {'id': 'd16'}],\n",
       " 'links': [{'weight': 4.8570226039551585, 'source': 'd1', 'target': 'd2'},\n",
       "  {'weight': 7.3570226039551585, 'source': 'd1', 'target': 'd3'},\n",
       "  {'weight': 7.7736892706218255, 'source': 'd1', 'target': 'd4'},\n",
       "  {'weight': 14.44035593728849, 'source': 'd1', 'target': 'd5'},\n",
       "  {'weight': 14.44035593728849, 'source': 'd1', 'target': 'd6'},\n",
       "  {'weight': 7.6725889843221236, 'source': 'd1', 'target': 'd7'},\n",
       "  {'weight': 5.934433619633036, 'source': 'd1', 'target': 'd10'},\n",
       "  {'weight': 3.1903559372884915, 'source': 'd2', 'target': 'd3'},\n",
       "  {'weight': 3.2618446353109127, 'source': 'd2', 'target': 'd4'},\n",
       "  {'weight': 10.273689270621826, 'source': 'd2', 'target': 'd5'},\n",
       "  {'weight': 9.928511301977581, 'source': 'd2', 'target': 'd6'},\n",
       "  {'weight': 11.595177968644247, 'source': 'd2', 'target': 'd7'},\n",
       "  {'weight': 9.511844635310913, 'source': 'd2', 'target': 'd10'},\n",
       "  {'weight': 1.8392556509887896, 'source': 'd3', 'target': 'd4'},\n",
       "  {'weight': 7.7736892706218255, 'source': 'd3', 'target': 'd5'},\n",
       "  {'weight': 7.7736892706218255, 'source': 'd3', 'target': 'd6'},\n",
       "  {'weight': 14.095177968644247, 'source': 'd3', 'target': 'd7'},\n",
       "  {'weight': 12.357022603955159, 'source': 'd3', 'target': 'd10'},\n",
       "  {'weight': 7.3570226039551585, 'source': 'd4', 'target': 'd5'},\n",
       "  {'weight': 7.011844635310913, 'source': 'd4', 'target': 'd6'},\n",
       "  {'weight': 14.511844635310911, 'source': 'd4', 'target': 'd7'},\n",
       "  {'weight': 12.428511301977581, 'source': 'd4', 'target': 'd10'},\n",
       "  {'weight': 1.6666666666666667, 'source': 'd5', 'target': 'd6'},\n",
       "  {'weight': 21.17851130197758, 'source': 'd5', 'target': 'd7'},\n",
       "  {'weight': 19.44035593728849, 'source': 'd5', 'target': 'd10'},\n",
       "  {'weight': 21.17851130197758, 'source': 'd6', 'target': 'd7'},\n",
       "  {'weight': 19.095177968644244, 'source': 'd6', 'target': 'd10'},\n",
       "  {'weight': 7.083333333333334, 'source': 'd7', 'target': 'd8'},\n",
       "  {'weight': 4.095177968644246, 'source': 'd7', 'target': 'd9'},\n",
       "  {'weight': 2.4285113019775793, 'source': 'd7', 'target': 'd10'},\n",
       "  {'weight': 3.6785113019775793, 'source': 'd8', 'target': 'd9'},\n",
       "  {'weight': 3.017766952966369, 'source': 'd10', 'target': 'd11'},\n",
       "  {'weight': 120.0,\n",
       "   'required_assets': ['Lift'],\n",
       "   'source': 'd10',\n",
       "   'target': 'd12'},\n",
       "  {'weight': 45.0,\n",
       "   'required_assets': ['Lift'],\n",
       "   'source': 'd11',\n",
       "   'target': 'd13'},\n",
       "  {'weight': 3.017766952966369, 'source': 'd12', 'target': 'd13'},\n",
       "  {'weight': 4.3392556509887905, 'source': 'd12', 'target': 'd14'},\n",
       "  {'weight': 13.75, 'source': 'd14', 'target': 'd15'},\n",
       "  {'weight': 8.505922317655457, 'source': 'd15', 'target': 'd16'}]}"
      ]
     },
     "execution_count": 5,
     "metadata": {},
     "output_type": "execute_result"
    }
   ],
   "source": [
    "\n",
    "model = models.BimModel.from_ifc('../secrets/histo.ifc')\n",
    "door_list = model.doors.loc[model.doors.door_name.str.fullmatch(r'd\\d+')].door_name.to_list()\n",
    "extra_paths = [\n",
    "    models.Path(path=['d10', 'd12'], duration_seconds=120., required_assets=['Lift']),\n",
    "    models.Path(path=['d11', 'd13'], duration_seconds=45., required_assets=['Lift'])\n",
    "]\n",
    "g = models.logical_graph(\n",
    "    model,\n",
    "    door_list,\n",
    "    extra_paths,\n",
    "    models.DEFAULT_RUNNER_SPEED\n",
    ")\n",
    "\n",
    "data = ntx.node_link_data(g)\n",
    "data"
   ]
  },
  {
   "cell_type": "code",
   "execution_count": 6,
   "metadata": {},
   "outputs": [
    {
     "data": {
      "text/plain": [
       "{'_id': ObjectId('665e38a3bb2575e94eb6e40e'),\n",
       " 'requested': 1717450915.51216,\n",
       " 'status': 'Running'}"
      ]
     },
     "execution_count": 6,
     "metadata": {},
     "output_type": "execute_result"
    }
   ],
   "source": [
    "bim.find_one_and_update(\n",
    "    {'_id': _id},\n",
    "    {'$set': {'status': 'OK', 'result': data}}\n",
    ")"
   ]
  },
  {
   "cell_type": "code",
   "execution_count": 7,
   "metadata": {},
   "outputs": [],
   "source": [
    "item = bim.find_one({'_id': _id})\n",
    "del item['_id']  # The _id field in MongoDB cannot be changed"
   ]
  },
  {
   "cell_type": "code",
   "execution_count": 8,
   "metadata": {},
   "outputs": [
    {
     "name": "stdout",
     "output_type": "stream",
     "text": [
      "bim-latest is empty\n",
      "Updated!\n"
     ]
    }
   ],
   "source": [
    "old_item = bim_latest.find_one()\n",
    "if old_item is None:\n",
    "    print('bim-latest is empty')\n",
    "    bim_latest.insert_one(item)\n",
    "    print('Updated!')\n",
    "elif old_item['requested'] >= item['requested']:\n",
    "    print('New value is not newer than bim-latest; discarding')\n",
    "else:\n",
    "    bim_latest.find_one_and_replace({}, item)\n",
    "    print('Updated!')\n"
   ]
  },
  {
   "cell_type": "code",
   "execution_count": 9,
   "metadata": {},
   "outputs": [],
   "source": [
    "client.close()"
   ]
  }
 ],
 "metadata": {
  "kernelspec": {
   "display_name": ".venv",
   "language": "python",
   "name": "python3"
  },
  "language_info": {
   "codemirror_mode": {
    "name": "ipython",
    "version": 3
   },
   "file_extension": ".py",
   "mimetype": "text/x-python",
   "name": "python",
   "nbconvert_exporter": "python",
   "pygments_lexer": "ipython3",
   "version": "3.12.3"
  }
 },
 "nbformat": 4,
 "nbformat_minor": 2
}
