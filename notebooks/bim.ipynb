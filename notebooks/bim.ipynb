{
 "cells": [
  {
   "cell_type": "code",
   "execution_count": 1,
   "metadata": {},
   "outputs": [],
   "source": [
    "import ifcopenshell as ifc\n",
    "import pandas as pd\n",
    "\n",
    "from digital_hospitals.bim import models"
   ]
  },
  {
   "cell_type": "markdown",
   "metadata": {},
   "source": [
    "## Read the model"
   ]
  },
  {
   "cell_type": "code",
   "execution_count": 2,
   "metadata": {},
   "outputs": [],
   "source": [
    "model = models.BimModel.from_ifc('../secrets/histo.ifc')"
   ]
  },
  {
   "cell_type": "code",
   "execution_count": 3,
   "metadata": {},
   "outputs": [],
   "source": [
    "# Test BimData serialisation/deserialisation\n",
    "\n",
    "model_data = models.BimData.from_obj(model)\n",
    "\n",
    "with open('model.out.json', 'w') as file:\n",
    "    print(model_data.model_dump_json(), file=file)\n",
    "\n",
    "model_data = models.BimData.model_validate_json(open('model.out.json').read())\n",
    "model = model_data.to_obj()"
   ]
  },
  {
   "cell_type": "markdown",
   "metadata": {},
   "source": [
    "**Number and doors and walls per floor:**"
   ]
  },
  {
   "cell_type": "code",
   "execution_count": 4,
   "metadata": {},
   "outputs": [
    {
     "data": {
      "text/plain": [
       "floor\n",
       "Level 1 Basement        46\n",
       "Level 2 Ground floor    95\n",
       "Level 3 First floor     98\n",
       "Level 4 Second floor    68\n",
       "Level 5 Third floor     73\n",
       "Level 6 Fourth floor    66\n",
       "Name: door_name, dtype: int64"
      ]
     },
     "execution_count": 4,
     "metadata": {},
     "output_type": "execute_result"
    }
   ],
   "source": [
    "model.doors.groupby(['floor']).door_name.count()"
   ]
  },
  {
   "cell_type": "code",
   "execution_count": 5,
   "metadata": {},
   "outputs": [
    {
     "data": {
      "text/plain": [
       "floor\n",
       "Level 1 Basement        183\n",
       "Level 2 Ground floor    257\n",
       "Level 3 First floor     242\n",
       "Level 4 Second floor    202\n",
       "Level 5 Third floor     208\n",
       "Level 6 Fourth floor    205\n",
       "Name: wall_name, dtype: int64"
      ]
     },
     "execution_count": 5,
     "metadata": {},
     "output_type": "execute_result"
    }
   ],
   "source": [
    "model.walls.groupby(['floor']).wall_name.count()"
   ]
  },
  {
   "cell_type": "markdown",
   "metadata": {},
   "source": [
    "**Door list:**"
   ]
  },
  {
   "cell_type": "code",
   "execution_count": 6,
   "metadata": {},
   "outputs": [
    {
     "data": {
      "text/html": [
       "<div>\n",
       "<style scoped>\n",
       "    .dataframe tbody tr th:only-of-type {\n",
       "        vertical-align: middle;\n",
       "    }\n",
       "\n",
       "    .dataframe tbody tr th {\n",
       "        vertical-align: top;\n",
       "    }\n",
       "\n",
       "    .dataframe thead th {\n",
       "        text-align: right;\n",
       "    }\n",
       "</style>\n",
       "<table border=\"1\" class=\"dataframe\">\n",
       "  <thead>\n",
       "    <tr style=\"text-align: right;\">\n",
       "      <th></th>\n",
       "      <th>door_name</th>\n",
       "      <th>floor</th>\n",
       "      <th>x0</th>\n",
       "      <th>x1</th>\n",
       "      <th>y0</th>\n",
       "      <th>y1</th>\n",
       "      <th>z0</th>\n",
       "    </tr>\n",
       "  </thead>\n",
       "  <tbody>\n",
       "    <tr>\n",
       "      <th>430</th>\n",
       "      <td>d1</td>\n",
       "      <td>Level 4 Second floor</td>\n",
       "      <td>62.027627</td>\n",
       "      <td>63.007627</td>\n",
       "      <td>60.642963</td>\n",
       "      <td>60.820963</td>\n",
       "      <td>10.5</td>\n",
       "    </tr>\n",
       "    <tr>\n",
       "      <th>431</th>\n",
       "      <td>d2</td>\n",
       "      <td>Level 4 Second floor</td>\n",
       "      <td>67.062127</td>\n",
       "      <td>67.942127</td>\n",
       "      <td>58.859361</td>\n",
       "      <td>59.037361</td>\n",
       "      <td>10.5</td>\n",
       "    </tr>\n",
       "    <tr>\n",
       "      <th>432</th>\n",
       "      <td>d3</td>\n",
       "      <td>Level 4 Second floor</td>\n",
       "      <td>69.609627</td>\n",
       "      <td>71.169627</td>\n",
       "      <td>60.588963</td>\n",
       "      <td>60.787963</td>\n",
       "      <td>10.5</td>\n",
       "    </tr>\n",
       "    <tr>\n",
       "      <th>433</th>\n",
       "      <td>d4</td>\n",
       "      <td>Level 4 Second floor</td>\n",
       "      <td>70.722127</td>\n",
       "      <td>71.602127</td>\n",
       "      <td>58.859361</td>\n",
       "      <td>59.037361</td>\n",
       "      <td>10.5</td>\n",
       "    </tr>\n",
       "    <tr>\n",
       "      <th>434</th>\n",
       "      <td>d5</td>\n",
       "      <td>Level 4 Second floor</td>\n",
       "      <td>78.321879</td>\n",
       "      <td>79.881879</td>\n",
       "      <td>60.694861</td>\n",
       "      <td>60.893861</td>\n",
       "      <td>10.5</td>\n",
       "    </tr>\n",
       "    <tr>\n",
       "      <th>435</th>\n",
       "      <td>d6</td>\n",
       "      <td>Level 4 Second floor</td>\n",
       "      <td>78.062173</td>\n",
       "      <td>79.622173</td>\n",
       "      <td>58.750861</td>\n",
       "      <td>58.949861</td>\n",
       "      <td>10.5</td>\n",
       "    </tr>\n",
       "    <tr>\n",
       "      <th>436</th>\n",
       "      <td>d7</td>\n",
       "      <td>Level 4 Second floor</td>\n",
       "      <td>53.848127</td>\n",
       "      <td>54.047127</td>\n",
       "      <td>59.113611</td>\n",
       "      <td>60.673611</td>\n",
       "      <td>10.5</td>\n",
       "    </tr>\n",
       "    <tr>\n",
       "      <th>437</th>\n",
       "      <td>d8</td>\n",
       "      <td>Level 4 Second floor</td>\n",
       "      <td>45.713127</td>\n",
       "      <td>45.912127</td>\n",
       "      <td>59.062361</td>\n",
       "      <td>60.622361</td>\n",
       "      <td>10.5</td>\n",
       "    </tr>\n",
       "    <tr>\n",
       "      <th>438</th>\n",
       "      <td>d9</td>\n",
       "      <td>Level 4 Second floor</td>\n",
       "      <td>48.957877</td>\n",
       "      <td>50.517877</td>\n",
       "      <td>60.644861</td>\n",
       "      <td>60.843861</td>\n",
       "      <td>10.5</td>\n",
       "    </tr>\n",
       "    <tr>\n",
       "      <th>439</th>\n",
       "      <td>d10</td>\n",
       "      <td>Level 4 Second floor</td>\n",
       "      <td>55.754627</td>\n",
       "      <td>57.314627</td>\n",
       "      <td>58.848361</td>\n",
       "      <td>59.047361</td>\n",
       "      <td>10.5</td>\n",
       "    </tr>\n",
       "    <tr>\n",
       "      <th>440</th>\n",
       "      <td>d11</td>\n",
       "      <td>Level 4 Second floor</td>\n",
       "      <td>54.942127</td>\n",
       "      <td>55.120127</td>\n",
       "      <td>55.196111</td>\n",
       "      <td>56.176111</td>\n",
       "      <td>10.5</td>\n",
       "    </tr>\n",
       "    <tr>\n",
       "      <th>441</th>\n",
       "      <td>d12</td>\n",
       "      <td>Level 3 First floor</td>\n",
       "      <td>55.754123</td>\n",
       "      <td>57.314123</td>\n",
       "      <td>58.849194</td>\n",
       "      <td>59.048194</td>\n",
       "      <td>7.0</td>\n",
       "    </tr>\n",
       "    <tr>\n",
       "      <th>442</th>\n",
       "      <td>d13</td>\n",
       "      <td>Level 3 First floor</td>\n",
       "      <td>54.941623</td>\n",
       "      <td>55.119623</td>\n",
       "      <td>55.133194</td>\n",
       "      <td>56.113194</td>\n",
       "      <td>7.0</td>\n",
       "    </tr>\n",
       "    <tr>\n",
       "      <th>443</th>\n",
       "      <td>d14</td>\n",
       "      <td>Level 3 First floor</td>\n",
       "      <td>61.087623</td>\n",
       "      <td>61.286623</td>\n",
       "      <td>59.095694</td>\n",
       "      <td>60.655694</td>\n",
       "      <td>7.0</td>\n",
       "    </tr>\n",
       "    <tr>\n",
       "      <th>444</th>\n",
       "      <td>d15</td>\n",
       "      <td>Level 3 First floor</td>\n",
       "      <td>77.379123</td>\n",
       "      <td>77.557123</td>\n",
       "      <td>59.275995</td>\n",
       "      <td>60.355995</td>\n",
       "      <td>7.0</td>\n",
       "    </tr>\n",
       "    <tr>\n",
       "      <th>445</th>\n",
       "      <td>d16</td>\n",
       "      <td>Level 3 First floor</td>\n",
       "      <td>86.594123</td>\n",
       "      <td>87.474123</td>\n",
       "      <td>58.762694</td>\n",
       "      <td>58.940694</td>\n",
       "      <td>7.0</td>\n",
       "    </tr>\n",
       "  </tbody>\n",
       "</table>\n",
       "</div>"
      ],
      "text/plain": [
       "    door_name                 floor         x0         x1         y0  \\\n",
       "430        d1  Level 4 Second floor  62.027627  63.007627  60.642963   \n",
       "431        d2  Level 4 Second floor  67.062127  67.942127  58.859361   \n",
       "432        d3  Level 4 Second floor  69.609627  71.169627  60.588963   \n",
       "433        d4  Level 4 Second floor  70.722127  71.602127  58.859361   \n",
       "434        d5  Level 4 Second floor  78.321879  79.881879  60.694861   \n",
       "435        d6  Level 4 Second floor  78.062173  79.622173  58.750861   \n",
       "436        d7  Level 4 Second floor  53.848127  54.047127  59.113611   \n",
       "437        d8  Level 4 Second floor  45.713127  45.912127  59.062361   \n",
       "438        d9  Level 4 Second floor  48.957877  50.517877  60.644861   \n",
       "439       d10  Level 4 Second floor  55.754627  57.314627  58.848361   \n",
       "440       d11  Level 4 Second floor  54.942127  55.120127  55.196111   \n",
       "441       d12   Level 3 First floor  55.754123  57.314123  58.849194   \n",
       "442       d13   Level 3 First floor  54.941623  55.119623  55.133194   \n",
       "443       d14   Level 3 First floor  61.087623  61.286623  59.095694   \n",
       "444       d15   Level 3 First floor  77.379123  77.557123  59.275995   \n",
       "445       d16   Level 3 First floor  86.594123  87.474123  58.762694   \n",
       "\n",
       "            y1    z0  \n",
       "430  60.820963  10.5  \n",
       "431  59.037361  10.5  \n",
       "432  60.787963  10.5  \n",
       "433  59.037361  10.5  \n",
       "434  60.893861  10.5  \n",
       "435  58.949861  10.5  \n",
       "436  60.673611  10.5  \n",
       "437  60.622361  10.5  \n",
       "438  60.843861  10.5  \n",
       "439  59.047361  10.5  \n",
       "440  56.176111  10.5  \n",
       "441  59.048194   7.0  \n",
       "442  56.113194   7.0  \n",
       "443  60.655694   7.0  \n",
       "444  60.355995   7.0  \n",
       "445  58.940694   7.0  "
      ]
     },
     "execution_count": 6,
     "metadata": {},
     "output_type": "execute_result"
    }
   ],
   "source": [
    "door_list = model.doors.loc[\n",
    "    model.doors.door_name.str.fullmatch(r'd\\d+')\n",
    "].door_name.to_list()\n",
    "\n",
    "model.doors.loc[model.doors.door_name.isin(door_list)]"
   ]
  },
  {
   "cell_type": "markdown",
   "metadata": {},
   "source": [
    "## Plot the floor plan"
   ]
  },
  {
   "cell_type": "code",
   "execution_count": 7,
   "metadata": {},
   "outputs": [],
   "source": [
    "import numpy as np\n",
    "import networkx as ntx\n",
    "import shapely as shp\n",
    "from shapely.plotting import plot_polygon\n",
    "\n",
    "def box_type(\n",
    "        model: models.ShapelyModel,\n",
    "        box: shp.Polygon) -> str:\n",
    "    shp.prepare(box)\n",
    "    if any(box.intersects(list(model.door_shapes.values()))):\n",
    "        # Intersects with door in ok_doors\n",
    "        return 'door'\n",
    "    if any(box.intersects(model.wall_shapes)):\n",
    "        # Intersects with wall\n",
    "        return 'wall'\n",
    "    return 'empty'\n",
    "\n",
    "def grid_plot(model, ax, title,\n",
    "              bottom_left,\n",
    "              top_right,\n",
    "              grid_size = 0.5,):\n",
    "    x_min, y_min = bottom_left\n",
    "    x_max, y_max = top_right\n",
    "    n_x = len(np.arange(x_min, x_max, grid_size))\n",
    "    n_y = len(np.arange(y_min, y_max, grid_size))\n",
    "\n",
    "    # Create base grid, assigning 'box' and 'pos' attributes\n",
    "    # to each node\n",
    "    grid = ntx.grid_2d_graph(n_x, n_y)\n",
    "    for n in grid.nodes:\n",
    "        i, j = n\n",
    "        x0 = x_min + i*grid_size\n",
    "        y0 = y_min + j*grid_size\n",
    "        grid.nodes[n]['box'] = shp.box(\n",
    "            x0, y0, x0+grid_size, y0+grid_size, ccw=False\n",
    "        )\n",
    "        shp.prepare(grid.nodes[n]['box'])\n",
    "        centroid = grid.nodes[n]['box'].centroid\n",
    "        grid.nodes[n]['pos'] = (centroid.x, centroid.y)\n",
    "\n",
    "    for n, v in grid.nodes(data=True):\n",
    "        grid.nodes[n]['type'] = t = box_type(model, v['box'])\n",
    "        grid.nodes[n]['color'] = 'gray' if t == 'wall' else 'red' if t == 'door' else 'white'\n",
    "    \n",
    "    for n, v in grid.nodes(data=True):\n",
    "        plot_polygon(\n",
    "            v['box'], ax, facecolor=v['color'], add_points=False, linewidth=0.3,\n",
    "            edgecolor=('#aaa' if v['type'] == 'empty' else \"black\")\n",
    "        )\n",
    "    \n",
    "    for n, p in model.door_shapes.items():\n",
    "        ax.text(p.centroid.x+0.2, p.centroid.y+0.2, n, color='#204')\n",
    "\n",
    "    ax.axis('square')\n",
    "    x0, y0 = bottom_left\n",
    "    x1, y1 = top_right\n",
    "    ax.set_xlim((x0, x1))\n",
    "    ax.set_ylim((y0, y1))\n",
    "    ax.set_title(title)"
   ]
  },
  {
   "cell_type": "code",
   "execution_count": 8,
   "metadata": {},
   "outputs": [
    {
     "data": {
      "image/png": "[encoded data removed]",
      "text/plain": [
       "<Figure size 1000x500 with 1 Axes>"
      ]
     },
     "metadata": {},
     "output_type": "display_data"
    }
   ],
   "source": [
    "import matplotlib.pyplot as plt\n",
    "\n",
    "l3_model = models.ShapelyModel(model, 'Level 3 First floor', door_list)\n",
    "\n",
    "fig, ax = plt.subplots(figsize=(10,5))\n",
    "grid_plot(l3_model, ax, 'Level 3 First floor', bottom_left=(45,45), top_right=(95,70))"
   ]
  },
  {
   "cell_type": "code",
   "execution_count": 9,
   "metadata": {},
   "outputs": [
    {
     "data": {
      "image/png": "[encoded data removed]",
      "text/plain": [
       "<Figure size 1000x500 with 1 Axes>"
      ]
     },
     "metadata": {},
     "output_type": "display_data"
    }
   ],
   "source": [
    "l4_model = models.ShapelyModel(model, 'Level 4 Second floor', door_list)\n",
    "\n",
    "fig, ax = plt.subplots(figsize=(10,5))\n",
    "grid_plot(l4_model, ax, 'Level 4 Second floor', bottom_left=(35,50), top_right=(85,70))"
   ]
  },
  {
   "cell_type": "markdown",
   "metadata": {},
   "source": [
    "## Compute runner times"
   ]
  },
  {
   "cell_type": "code",
   "execution_count": 10,
   "metadata": {},
   "outputs": [],
   "source": [
    "extra_paths = [\n",
    "    models.Path(path=['d10', 'd12'], duration_seconds=120., required_assets=['Lift']),\n",
    "    models.Path(path=['d11', 'd13'], duration_seconds=45., required_assets=['Lift'])\n",
    "]"
   ]
  },
  {
   "cell_type": "code",
   "execution_count": 11,
   "metadata": {},
   "outputs": [],
   "source": [
    "g = models.logical_graph(\n",
    "    model,\n",
    "    door_list,\n",
    "    extra_paths,\n",
    "    models.DEFAULT_RUNNER_SPEED\n",
    ")"
   ]
  },
  {
   "cell_type": "code",
   "execution_count": 13,
   "metadata": {},
   "outputs": [
    {
     "data": {
      "text/plain": [
       "[<matplotlib.axis.YTick at 0x7f75c3a57860>,\n",
       " <matplotlib.axis.YTick at 0x7f75c507bcb0>,\n",
       " <matplotlib.axis.YTick at 0x7f75c3a753a0>,\n",
       " <matplotlib.axis.YTick at 0x7f75c3ee0bf0>,\n",
       " <matplotlib.axis.YTick at 0x7f75c3ee15b0>,\n",
       " <matplotlib.axis.YTick at 0x7f75c3ee1f70>,\n",
       " <matplotlib.axis.YTick at 0x7f75c3ee17c0>,\n",
       " <matplotlib.axis.YTick at 0x7f75c3ee2540>,\n",
       " <matplotlib.axis.YTick at 0x7f75c3ee2ea0>,\n",
       " <matplotlib.axis.YTick at 0x7f75c3ee3800>,\n",
       " <matplotlib.axis.YTick at 0x7f75c3ee3e00>,\n",
       " <matplotlib.axis.YTick at 0x7f75c3ee2a20>,\n",
       " <matplotlib.axis.YTick at 0x7f75c3e6c800>,\n",
       " <matplotlib.axis.YTick at 0x7f75c3e6d160>,\n",
       " <matplotlib.axis.YTick at 0x7f75c3e6da60>,\n",
       " <matplotlib.axis.YTick at 0x7f75c3e6e330>]"
      ]
     },
     "execution_count": 13,
     "metadata": {},
     "output_type": "execute_result"
    },
    {
     "data": {
      "image/png": "[encoded data removed]",
      "text/plain": [
       "<Figure size 640x480 with 2 Axes>"
      ]
     },
     "metadata": {},
     "output_type": "display_data"
    }
   ],
   "source": [
    "mat = ntx.adjacency_matrix(g).todense()\n",
    "\n",
    "from matplotlib.colors import LogNorm\n",
    "from matplotlib.patches import Rectangle\n",
    "from mpl_toolkits.axes_grid1 import make_axes_locatable\n",
    "\n",
    "fig, ax = plt.subplots()\n",
    "divider = make_axes_locatable(ax)\n",
    "cax = divider.append_axes('right', size='5%', pad=0.05)\n",
    "\n",
    "im = ax.imshow(mat, interpolation=\"nearest\", origin=\"lower\",\n",
    "           cmap='winter', norm=LogNorm(vmin=1, vmax=120))\n",
    "ax.add_patch(Rectangle((-0.5,-0.5), 11, 11, fill=False, edgecolor='k'))\n",
    "ax.add_patch(Rectangle((10.5,10.5), 5, 5, fill=False, edgecolor='k'))\n",
    "\n",
    "# Highlight lifts\n",
    "ax.add_patch(Rectangle((9.5,11.5), 1, 1, fill=False, edgecolor='r', linewidth=2))\n",
    "ax.add_patch(Rectangle((11.5,9.5), 1, 1, fill=False, edgecolor='r', linewidth=2))\n",
    "\n",
    "ax.text(1.5,13,'inter-floor', color='b')\n",
    "ax.text(7.5,7.5,'Level 4', color='b', rotation=-45)\n",
    "ax.text(13,1.5,'inter-floor', rotation=-90, color='b')\n",
    "ax.text(11.75,11.75,'Level 3', color='b', rotation=-45)\n",
    "fig.colorbar(im, cax=cax, orientation='vertical')\n",
    "\n",
    "ax.set_xlabel('Door #')\n",
    "ax.set_ylabel('Door #')\n",
    "ax.set_title('Time between doors in logical graph, seconds')\n",
    "ax.set_xticks(range(16), range(1,17))\n",
    "ax.set_yticks(range(16), range(1,17))"
   ]
  },
  {
   "cell_type": "code",
   "execution_count": 14,
   "metadata": {},
   "outputs": [
    {
     "data": {
      "text/plain": [
       "{'directed': False,\n",
       " 'multigraph': False,\n",
       " 'graph': {},\n",
       " 'nodes': [{'id': 'd1'},\n",
       "  {'id': 'd2'},\n",
       "  {'id': 'd3'},\n",
       "  {'id': 'd4'},\n",
       "  {'id': 'd5'},\n",
       "  {'id': 'd6'},\n",
       "  {'id': 'd7'},\n",
       "  {'id': 'd8'},\n",
       "  {'id': 'd9'},\n",
       "  {'id': 'd10'},\n",
       "  {'id': 'd11'},\n",
       "  {'id': 'd12'},\n",
       "  {'id': 'd13'},\n",
       "  {'id': 'd14'},\n",
       "  {'id': 'd15'},\n",
       "  {'id': 'd16'}],\n",
       " 'links': [{'weight': 4.8570226039551585, 'source': 'd1', 'target': 'd2'},\n",
       "  {'weight': 7.3570226039551585, 'source': 'd1', 'target': 'd3'},\n",
       "  {'weight': 7.7736892706218255, 'source': 'd1', 'target': 'd4'},\n",
       "  {'weight': 14.44035593728849, 'source': 'd1', 'target': 'd5'},\n",
       "  {'weight': 14.44035593728849, 'source': 'd1', 'target': 'd6'},\n",
       "  {'weight': 7.6725889843221236, 'source': 'd1', 'target': 'd7'},\n",
       "  {'weight': 5.934433619633036, 'source': 'd1', 'target': 'd10'},\n",
       "  {'weight': 3.1903559372884915, 'source': 'd2', 'target': 'd3'},\n",
       "  {'weight': 3.2618446353109127, 'source': 'd2', 'target': 'd4'},\n",
       "  {'weight': 10.273689270621826, 'source': 'd2', 'target': 'd5'},\n",
       "  {'weight': 9.928511301977581, 'source': 'd2', 'target': 'd6'},\n",
       "  {'weight': 11.595177968644247, 'source': 'd2', 'target': 'd7'},\n",
       "  {'weight': 9.511844635310913, 'source': 'd2', 'target': 'd10'},\n",
       "  {'weight': 1.8392556509887896, 'source': 'd3', 'target': 'd4'},\n",
       "  {'weight': 7.7736892706218255, 'source': 'd3', 'target': 'd5'},\n",
       "  {'weight': 7.7736892706218255, 'source': 'd3', 'target': 'd6'},\n",
       "  {'weight': 14.095177968644247, 'source': 'd3', 'target': 'd7'},\n",
       "  {'weight': 12.357022603955159, 'source': 'd3', 'target': 'd10'},\n",
       "  {'weight': 7.3570226039551585, 'source': 'd4', 'target': 'd5'},\n",
       "  {'weight': 7.011844635310913, 'source': 'd4', 'target': 'd6'},\n",
       "  {'weight': 14.511844635310911, 'source': 'd4', 'target': 'd7'},\n",
       "  {'weight': 12.428511301977581, 'source': 'd4', 'target': 'd10'},\n",
       "  {'weight': 1.6666666666666667, 'source': 'd5', 'target': 'd6'},\n",
       "  {'weight': 21.17851130197758, 'source': 'd5', 'target': 'd7'},\n",
       "  {'weight': 19.44035593728849, 'source': 'd5', 'target': 'd10'},\n",
       "  {'weight': 21.17851130197758, 'source': 'd6', 'target': 'd7'},\n",
       "  {'weight': 19.095177968644244, 'source': 'd6', 'target': 'd10'},\n",
       "  {'weight': 7.083333333333334, 'source': 'd7', 'target': 'd8'},\n",
       "  {'weight': 4.095177968644246, 'source': 'd7', 'target': 'd9'},\n",
       "  {'weight': 2.4285113019775793, 'source': 'd7', 'target': 'd10'},\n",
       "  {'weight': 3.6785113019775793, 'source': 'd8', 'target': 'd9'},\n",
       "  {'weight': 3.017766952966369, 'source': 'd10', 'target': 'd11'},\n",
       "  {'weight': 120.0,\n",
       "   'required_assets': ['Lift'],\n",
       "   'source': 'd10',\n",
       "   'target': 'd12'},\n",
       "  {'weight': 45.0,\n",
       "   'required_assets': ['Lift'],\n",
       "   'source': 'd11',\n",
       "   'target': 'd13'},\n",
       "  {'weight': 3.017766952966369, 'source': 'd12', 'target': 'd13'},\n",
       "  {'weight': 4.3392556509887905, 'source': 'd12', 'target': 'd14'},\n",
       "  {'weight': 13.75, 'source': 'd14', 'target': 'd15'},\n",
       "  {'weight': 8.505922317655457, 'source': 'd15', 'target': 'd16'}]}"
      ]
     },
     "execution_count": 14,
     "metadata": {},
     "output_type": "execute_result"
    }
   ],
   "source": [
    "data = ntx.node_link_data(g)\n",
    "data"
   ]
  },
  {
   "cell_type": "code",
   "execution_count": 15,
   "metadata": {},
   "outputs": [
    {
     "data": {
      "text/plain": [
       "True"
      ]
     },
     "execution_count": 15,
     "metadata": {},
     "output_type": "execute_result"
    }
   ],
   "source": [
    "# Check deserialisation\n",
    "g2 = ntx.node_link_graph(data)\n",
    "g.nodes == g2.nodes and g.edges == g2.edges"
   ]
  }
 ],
 "metadata": {
  "kernelspec": {
   "display_name": ".venv",
   "language": "python",
   "name": "python3"
  },
  "language_info": {
   "codemirror_mode": {
    "name": "ipython",
    "version": 3
   },
   "file_extension": ".py",
   "mimetype": "text/x-python",
   "name": "python",
   "nbconvert_exporter": "python",
   "pygments_lexer": "ipython3",
   "version": "3.12.3"
  }
 },
 "nbformat": 4,
 "nbformat_minor": 2
}
