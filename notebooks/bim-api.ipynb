{
 "cells": [
  {
   "cell_type": "code",
   "execution_count": 1,
   "metadata": {},
   "outputs": [],
   "source": [
    "import requests\n",
    "import json\n",
    "from pprint import pprint\n",
    "\n",
    "from digital_hospitals.bim import models\n",
    "from digital_hospitals.bim.app import BimResult"
   ]
  },
  {
   "cell_type": "code",
   "execution_count": 2,
   "metadata": {},
   "outputs": [],
   "source": [
    "def pprint_response(r: requests.Response):\n",
    "    print(f'{r.request.method} {r.request.path_url}')\n",
    "    print()\n",
    "\n",
    "    print('----REQUEST----HEADERS-------------------------------')\n",
    "    pprint(dict(r.request.headers))\n",
    "    print()\n",
    "\n",
    "    print('----RESPONSE----HEADERS------------------------------')\n",
    "    pprint(dict(r.headers))\n",
    "    print()\n",
    "    print(f'----RESPONSE----CONTENT----{r.status_code}-----------------------')\n",
    "    print(r.encoding)\n",
    "    print()\n",
    "    if ('text/' in r.headers['Content-Type']):\n",
    "        print(r.text)\n",
    "    elif ('application/json' in r.headers['Content-Type']):\n",
    "        pprint(r.json())\n",
    "    else:\n",
    "        print(r.raw)"
   ]
  },
  {
   "cell_type": "code",
   "execution_count": 3,
   "metadata": {},
   "outputs": [
    {
     "name": "stdout",
     "output_type": "stream",
     "text": [
      "GET /api/example/?test=ignore+this\n",
      "\n",
      "----REQUEST----HEADERS-------------------------------\n",
      "{'Accept': '*/*',\n",
      " 'Accept-Encoding': 'gzip, deflate',\n",
      " 'Connection': 'keep-alive',\n",
      " 'User-Agent': 'python-requests/2.32.3'}\n",
      "\n",
      "----RESPONSE----HEADERS------------------------------\n",
      "{'Connection': 'keep-alive',\n",
      " 'Content-Length': '11',\n",
      " 'Content-Type': 'text/plain; charset=utf-8',\n",
      " 'Date': 'Tue, 04 Jun 2024 18:08:45 GMT',\n",
      " 'Server': 'nginx/1.25.5'}\n",
      "\n",
      "----RESPONSE----CONTENT----200-----------------------\n",
      "utf-8\n",
      "\n",
      "Hello World\n"
     ]
    }
   ],
   "source": [
    "response = requests.get(url='http://localhost/api/example/', params={'test': 'ignore this'})\n",
    "pprint_response(response)"
   ]
  },
  {
   "cell_type": "code",
   "execution_count": 4,
   "metadata": {},
   "outputs": [
    {
     "name": "stdout",
     "output_type": "stream",
     "text": [
      "GET /api/example/notimplemented\n",
      "\n",
      "----REQUEST----HEADERS-------------------------------\n",
      "{'Accept': '*/*',\n",
      " 'Accept-Encoding': 'gzip, deflate',\n",
      " 'Connection': 'keep-alive',\n",
      " 'User-Agent': 'python-requests/2.32.3'}\n",
      "\n",
      "----RESPONSE----HEADERS------------------------------\n",
      "{'Connection': 'keep-alive',\n",
      " 'Content-Length': '28',\n",
      " 'Content-Type': 'application/json',\n",
      " 'Date': 'Tue, 04 Jun 2024 18:08:45 GMT',\n",
      " 'Server': 'nginx/1.25.5'}\n",
      "\n",
      "----RESPONSE----CONTENT----501-----------------------\n",
      "utf-8\n",
      "\n",
      "{'detail': 'Not implemented'}\n"
     ]
    }
   ],
   "source": [
    "response = requests.get(url='http://localhost/api/example/notimplemented')\n",
    "pprint_response(response)"
   ]
  },
  {
   "cell_type": "code",
   "execution_count": 5,
   "metadata": {},
   "outputs": [],
   "source": [
    "door_list = [f'd{n}' for n in range(1,17)]\n",
    "extra_paths = [\n",
    "    models.Path(path=['d10', 'd12'], duration_seconds=120., required_assets=['Lift']).model_dump(),\n",
    "    models.Path(path=['d11', 'd13'], duration_seconds=45., required_assets=['Lift']).model_dump()\n",
    "]\n",
    "\n",
    "params = {'door_list': door_list, 'extra_paths': extra_paths}"
   ]
  },
  {
   "cell_type": "code",
   "execution_count": 6,
   "metadata": {},
   "outputs": [
    {
     "name": "stdout",
     "output_type": "stream",
     "text": [
      "POST /api/bim/\n",
      "\n",
      "----REQUEST----HEADERS-------------------------------\n",
      "{'Accept': '*/*',\n",
      " 'Accept-Encoding': 'gzip, deflate',\n",
      " 'Connection': 'keep-alive',\n",
      " 'Content-Length': '18020965',\n",
      " 'Content-Type': 'multipart/form-data; '\n",
      "                 'boundary=2293dd9bed3e86e8602936f45f7dd320',\n",
      " 'User-Agent': 'python-requests/2.32.3'}\n",
      "\n",
      "----RESPONSE----HEADERS------------------------------\n",
      "{'Connection': 'keep-alive',\n",
      " 'Content-Length': '53',\n",
      " 'Content-Type': 'application/json',\n",
      " 'Date': 'Tue, 04 Jun 2024 18:08:50 GMT',\n",
      " 'Server': 'nginx/1.25.5'}\n",
      "\n",
      "----RESPONSE----CONTENT----202-----------------------\n",
      "utf-8\n",
      "\n",
      "{'detail': 'Accepted', 'id': '665f58328020df4badea1726'}\n"
     ]
    }
   ],
   "source": [
    "with open('../secrets/histo.ifc', 'rb') as ifc_file:\n",
    "    response = requests.post(\n",
    "        url='http://localhost/api/bim/',\n",
    "        files={'file': ifc_file},\n",
    "        data={'form_data': json.dumps(params)}\n",
    "    )\n",
    "\n",
    "pprint_response(response)"
   ]
  },
  {
   "cell_type": "code",
   "execution_count": 7,
   "metadata": {},
   "outputs": [],
   "source": [
    "my_id = json.loads(response.content)['id']"
   ]
  },
  {
   "cell_type": "code",
   "execution_count": 8,
   "metadata": {},
   "outputs": [
    {
     "name": "stdout",
     "output_type": "stream",
     "text": [
      "GET /api/bim/query?id=665f58328020df4badea1726\n",
      "\n",
      "----REQUEST----HEADERS-------------------------------\n",
      "{'Accept': '*/*',\n",
      " 'Accept-Encoding': 'gzip, deflate',\n",
      " 'Connection': 'keep-alive',\n",
      " 'User-Agent': 'python-requests/2.32.3'}\n",
      "\n",
      "----RESPONSE----HEADERS------------------------------\n",
      "{'Connection': 'keep-alive',\n",
      " 'Content-Length': '81',\n",
      " 'Content-Type': 'application/json',\n",
      " 'Date': 'Tue, 04 Jun 2024 18:08:50 GMT',\n",
      " 'Server': 'nginx/1.25.5'}\n",
      "\n",
      "----RESPONSE----CONTENT----200-----------------------\n",
      "utf-8\n",
      "\n",
      "{'err_msg': None,\n",
      " 'graph': None,\n",
      " 'requested_ts': 1717524530.273542,\n",
      " 'status': 'Running'}\n"
     ]
    }
   ],
   "source": [
    "response = requests.get(\n",
    "    url='http://localhost/api/bim/query',\n",
    "    params={'id': my_id},\n",
    ")\n",
    "\n",
    "pprint_response(response)"
   ]
  },
  {
   "cell_type": "code",
   "execution_count": 9,
   "metadata": {},
   "outputs": [
    {
     "data": {
      "text/plain": [
       "'Running'"
      ]
     },
     "execution_count": 9,
     "metadata": {},
     "output_type": "execute_result"
    }
   ],
   "source": [
    "BimResult.model_validate(response.json()).status"
   ]
  },
  {
   "cell_type": "code",
   "execution_count": null,
   "metadata": {},
   "outputs": [],
   "source": []
  }
 ],
 "metadata": {
  "kernelspec": {
   "display_name": ".venv",
   "language": "python",
   "name": "python3"
  },
  "language_info": {
   "codemirror_mode": {
    "name": "ipython",
    "version": 3
   },
   "file_extension": ".py",
   "mimetype": "text/x-python",
   "name": "python",
   "nbconvert_exporter": "python",
   "pygments_lexer": "ipython3",
   "version": "3.12.3"
  }
 },
 "nbformat": 4,
 "nbformat_minor": 2
}
