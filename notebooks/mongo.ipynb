{
 "cells": [
  {
   "cell_type": "code",
   "execution_count": 1,
   "metadata": {},
   "outputs": [],
   "source": [
    "from datetime import datetime\n",
    "from pymongo import MongoClient"
   ]
  },
  {
   "cell_type": "code",
   "execution_count": 2,
   "metadata": {},
   "outputs": [],
   "source": [
    "from digital_hospitals.common import MONGODB_URL, MONGODB_PORT, MONGODB_USER, MONGODB_PASSWORD\n",
    "client = MongoClient(MONGODB_URL, MONGODB_PORT, username=MONGODB_USER, password=MONGODB_PASSWORD, timeoutMS=5000)"
   ]
  },
  {
   "cell_type": "code",
   "execution_count": 3,
   "metadata": {},
   "outputs": [],
   "source": [
    "db = client['test-db']\n",
    "collection = db['hello-world']"
   ]
  },
  {
   "cell_type": "code",
   "execution_count": 4,
   "metadata": {},
   "outputs": [
    {
     "name": "stdout",
     "output_type": "stream",
     "text": [
      "<class 'pymongo.database.Database'>\n",
      "<class 'pymongo.collection.Collection'>\n"
     ]
    }
   ],
   "source": [
    "print(type(db))\n",
    "print(type(collection))"
   ]
  },
  {
   "cell_type": "markdown",
   "metadata": {},
   "source": [
    "We will only ever place one document in `collection`, replacing each time the block below is executed."
   ]
  },
  {
   "cell_type": "code",
   "execution_count": 5,
   "metadata": {},
   "outputs": [],
   "source": [
    "def update_mongo():\n",
    "    ts = datetime.now()\n",
    "\n",
    "    item = {\n",
    "        'msg': 'hello',\n",
    "        'timestamp': ts.timestamp(),\n",
    "        'timestamp_iso': ts.replace(microsecond=0).astimezone().isoformat()\n",
    "    }\n",
    "\n",
    "    collection.find_one_and_replace({}, item, upsert=True)\n",
    "    fetched_item = collection.find_one()\n",
    "    print(fetched_item)"
   ]
  },
  {
   "cell_type": "code",
   "execution_count": 6,
   "metadata": {},
   "outputs": [
    {
     "name": "stdout",
     "output_type": "stream",
     "text": [
      "{'_id': ObjectId('665ed486d196679480be839a'), 'msg': 'hello', 'timestamp': 1717490969.611847, 'timestamp_iso': '2024-06-04T09:49:29+01:00'}\n",
      "{'_id': ObjectId('665ed486d196679480be839a'), 'msg': 'hello', 'timestamp': 1717490970.622517, 'timestamp_iso': '2024-06-04T09:49:30+01:00'}\n",
      "{'_id': ObjectId('665ed486d196679480be839a'), 'msg': 'hello', 'timestamp': 1717490971.625521, 'timestamp_iso': '2024-06-04T09:49:31+01:00'}\n",
      "{'_id': ObjectId('665ed486d196679480be839a'), 'msg': 'hello', 'timestamp': 1717490972.627651, 'timestamp_iso': '2024-06-04T09:49:32+01:00'}\n",
      "{'_id': ObjectId('665ed486d196679480be839a'), 'msg': 'hello', 'timestamp': 1717490975.183782, 'timestamp_iso': '2024-06-04T09:49:35+01:00'}\n",
      "{'_id': ObjectId('665ed486d196679480be839a'), 'msg': 'hello', 'timestamp': 1717490976.186197, 'timestamp_iso': '2024-06-04T09:49:36+01:00'}\n",
      "{'_id': ObjectId('665ed486d196679480be839a'), 'msg': 'hello', 'timestamp': 1717490977.188295, 'timestamp_iso': '2024-06-04T09:49:37+01:00'}\n",
      "{'_id': ObjectId('665ed486d196679480be839a'), 'msg': 'hello', 'timestamp': 1717490978.190559, 'timestamp_iso': '2024-06-04T09:49:38+01:00'}\n",
      "{'_id': ObjectId('665ed486d196679480be839a'), 'msg': 'hello', 'timestamp': 1717490979.193292, 'timestamp_iso': '2024-06-04T09:49:39+01:00'}\n",
      "{'_id': ObjectId('665ed486d196679480be839a'), 'msg': 'hello', 'timestamp': 1717490980.195906, 'timestamp_iso': '2024-06-04T09:49:40+01:00'}\n"
     ]
    }
   ],
   "source": [
    "from time import sleep\n",
    "\n",
    "\n",
    "for _ in range(10):\n",
    "    update_mongo()\n",
    "    sleep(1)"
   ]
  },
  {
   "cell_type": "code",
   "execution_count": null,
   "metadata": {},
   "outputs": [],
   "source": []
  }
 ],
 "metadata": {
  "kernelspec": {
   "display_name": ".venv",
   "language": "python",
   "name": "python3"
  },
  "language_info": {
   "codemirror_mode": {
    "name": "ipython",
    "version": 3
   },
   "file_extension": ".py",
   "mimetype": "text/x-python",
   "name": "python",
   "nbconvert_exporter": "python",
   "pygments_lexer": "ipython3",
   "version": "3.12.3"
  }
 },
 "nbformat": 4,
 "nbformat_minor": 2
}
